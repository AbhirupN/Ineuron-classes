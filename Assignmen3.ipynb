{
 "cells": [
  {
   "cell_type": "code",
   "execution_count": 36,
   "metadata": {},
   "outputs": [
    {
     "name": "stdout",
     "output_type": "stream",
     "text": [
      "100\n"
     ]
    }
   ],
   "source": [
    "#Question1.1\n",
    "#from functools import reduce\n",
    "#list=[1,2,3,4,5,6,7,8,9,10]\n",
    "#reduce(lambda a,b: a+b,list)\n",
    "def myreduce(add,list):\n",
    "    return a\n",
    "def add(a,b):\n",
    "    return a+b\n",
    "list=[10,15,25,40,10]\n",
    "a=list[0]\n",
    "for i in range(1,len(list)):\n",
    "    b=list[i]\n",
    "    a=add(a,b)\n",
    "print(myreduce(add,list))\n"
   ]
  },
  {
   "cell_type": "code",
   "execution_count": 185,
   "metadata": {},
   "outputs": [
    {
     "name": "stdout",
     "output_type": "stream",
     "text": [
      "[1, 3, 5, 7, 9]\n"
     ]
    }
   ],
   "source": [
    "# Question:1.2\n",
    "    \n",
    "#print odd numbers\n",
    "#for i in range (1,11):\n",
    "    #if (i%2!=0):\n",
    "       #print(i)\n",
    "#In lambda you can define two function\n",
    "#filter(lambda i:i%2!=0,range (1,11))\n",
    "#list(filter(lambda i:i%2!=0,range (1,11)))\n",
    "def myfilter(odd,list):\n",
    "    return odd(a)\n",
    "list=[1,2,3,4,5,6,7,8,9,10]\n",
    "list1=[]\n",
    "def odd(a):\n",
    "    for i in list:\n",
    "        if i%2!=0:\n",
    "            list1.append(i)\n",
    "    print(list1)\n",
    "myfilter(odd,list1)\n"
   ]
  },
  {
   "cell_type": "code",
   "execution_count": 72,
   "metadata": {},
   "outputs": [
    {
     "data": {
      "text/plain": [
       "['x', 'xx', 'xxx', 'xxxx', 'y', 'yy', 'yyy', 'yyyy', 'z', 'zz', 'zzz', 'zzzz']"
      ]
     },
     "execution_count": 72,
     "metadata": {},
     "output_type": "execute_result"
    }
   ],
   "source": [
    "#Question2:\n",
    "##Expression for item is iterable list comprehension\n",
    "#[expression for item in iterable if conditional]\n",
    "#[expression if condition else stmt for item in iterable]\n",
    "#1.\n",
    "[i*j for i in 'xyz' for j in range(1,5)]"
   ]
  },
  {
   "cell_type": "code",
   "execution_count": 73,
   "metadata": {},
   "outputs": [
    {
     "data": {
      "text/plain": [
       "['x', 'y', 'z', 'xx', 'yy', 'zz', 'xxx', 'yyy', 'zzz', 'xxxx', 'yyyy', 'zzzz']"
      ]
     },
     "execution_count": 73,
     "metadata": {},
     "output_type": "execute_result"
    }
   ],
   "source": [
    "#2.\n",
    "[i*j for j in range(1,5) for i in 'xyz']"
   ]
  },
  {
   "cell_type": "code",
   "execution_count": 191,
   "metadata": {},
   "outputs": [
    {
     "data": {
      "text/plain": [
       "[[2], [3], [4], [3], [4], [5], [4], [5], [6]]"
      ]
     },
     "execution_count": 191,
     "metadata": {},
     "output_type": "execute_result"
    }
   ],
   "source": [
    "#3.\n",
    "list1=[2,3,4]\n",
    "[[i+j]for i in list1 for j in range(0,3)]\n",
    "\n"
   ]
  },
  {
   "cell_type": "code",
   "execution_count": 217,
   "metadata": {},
   "outputs": [
    {
     "data": {
      "text/plain": [
       "[[2], [3], [4], [3], [4], [5], [4], [5], [6], [5], [6], [7]]"
      ]
     },
     "execution_count": 217,
     "metadata": {},
     "output_type": "execute_result"
    }
   ],
   "source": [
    "list2=[2,3,4,5]\n",
    "[[j+i]for i in list2 for j in range(0,3)]\n"
   ]
  },
  {
   "cell_type": "code",
   "execution_count": 183,
   "metadata": {},
   "outputs": [
    {
     "data": {
      "text/plain": [
       "[[1, 1], [2, 1], [3, 1], [1, 2], [2, 2], [3, 2], [1, 3], [2, 3], [3, 3]]"
      ]
     },
     "execution_count": 183,
     "metadata": {},
     "output_type": "execute_result"
    }
   ],
   "source": [
    "#4.\n",
    "list4=[1,2,3]\n",
    "[[j,i] for i in range(1,4) for j in list4]"
   ]
  },
  {
   "cell_type": "code",
   "execution_count": null,
   "metadata": {},
   "outputs": [],
   "source": []
  }
 ],
 "metadata": {
  "kernelspec": {
   "display_name": "Python 3",
   "language": "python",
   "name": "python3"
  },
  "language_info": {
   "codemirror_mode": {
    "name": "ipython",
    "version": 3
   },
   "file_extension": ".py",
   "mimetype": "text/x-python",
   "name": "python",
   "nbconvert_exporter": "python",
   "pygments_lexer": "ipython3",
   "version": "3.8.5"
  }
 },
 "nbformat": 4,
 "nbformat_minor": 4
}
